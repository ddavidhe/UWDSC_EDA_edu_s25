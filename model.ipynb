{
 "cells": [
  {
   "cell_type": "code",
   "execution_count": 55,
   "id": "c7bb1413",
   "metadata": {},
   "outputs": [],
   "source": [
    "import pandas as pd\n",
    "import numpy as np\n",
    "import matplotlib.pyplot as plt\n",
    "import seaborn as sns"
   ]
  },
  {
   "cell_type": "code",
   "execution_count": 56,
   "id": "61a5d957",
   "metadata": {},
   "outputs": [
    {
     "data": {
      "text/html": [
       "<div>\n",
       "<style scoped>\n",
       "    .dataframe tbody tr th:only-of-type {\n",
       "        vertical-align: middle;\n",
       "    }\n",
       "\n",
       "    .dataframe tbody tr th {\n",
       "        vertical-align: top;\n",
       "    }\n",
       "\n",
       "    .dataframe thead th {\n",
       "        text-align: right;\n",
       "    }\n",
       "</style>\n",
       "<table border=\"1\" class=\"dataframe\">\n",
       "  <thead>\n",
       "    <tr style=\"text-align: right;\">\n",
       "      <th></th>\n",
       "      <th>Age</th>\n",
       "      <th>Gender</th>\n",
       "      <th>Screen Time Type</th>\n",
       "      <th>Day Type</th>\n",
       "      <th>Average Screen Time (hours)</th>\n",
       "      <th>Sample Size</th>\n",
       "    </tr>\n",
       "  </thead>\n",
       "  <tbody>\n",
       "    <tr>\n",
       "      <th>0</th>\n",
       "      <td>5</td>\n",
       "      <td>Male</td>\n",
       "      <td>Educational</td>\n",
       "      <td>Weekday</td>\n",
       "      <td>0.44</td>\n",
       "      <td>500</td>\n",
       "    </tr>\n",
       "    <tr>\n",
       "      <th>1</th>\n",
       "      <td>5</td>\n",
       "      <td>Male</td>\n",
       "      <td>Recreational</td>\n",
       "      <td>Weekday</td>\n",
       "      <td>1.11</td>\n",
       "      <td>500</td>\n",
       "    </tr>\n",
       "    <tr>\n",
       "      <th>2</th>\n",
       "      <td>5</td>\n",
       "      <td>Male</td>\n",
       "      <td>Total</td>\n",
       "      <td>Weekday</td>\n",
       "      <td>1.55</td>\n",
       "      <td>500</td>\n",
       "    </tr>\n",
       "    <tr>\n",
       "      <th>3</th>\n",
       "      <td>5</td>\n",
       "      <td>Male</td>\n",
       "      <td>Educational</td>\n",
       "      <td>Weekend</td>\n",
       "      <td>0.50</td>\n",
       "      <td>500</td>\n",
       "    </tr>\n",
       "    <tr>\n",
       "      <th>4</th>\n",
       "      <td>5</td>\n",
       "      <td>Male</td>\n",
       "      <td>Recreational</td>\n",
       "      <td>Weekend</td>\n",
       "      <td>1.44</td>\n",
       "      <td>500</td>\n",
       "    </tr>\n",
       "  </tbody>\n",
       "</table>\n",
       "</div>"
      ],
      "text/plain": [
       "   Age Gender Screen Time Type Day Type  Average Screen Time (hours)  \\\n",
       "0    5   Male      Educational  Weekday                         0.44   \n",
       "1    5   Male     Recreational  Weekday                         1.11   \n",
       "2    5   Male            Total  Weekday                         1.55   \n",
       "3    5   Male      Educational  Weekend                         0.50   \n",
       "4    5   Male     Recreational  Weekend                         1.44   \n",
       "\n",
       "   Sample Size  \n",
       "0          500  \n",
       "1          500  \n",
       "2          500  \n",
       "3          500  \n",
       "4          500  "
      ]
     },
     "execution_count": 56,
     "metadata": {},
     "output_type": "execute_result"
    }
   ],
   "source": [
    "data = pd.read_csv('screen_time.csv')\n",
    "data.head()"
   ]
  },
  {
   "cell_type": "markdown",
   "id": "ac0420c2",
   "metadata": {},
   "source": [
    "A couple of notes:\n",
    "- There are a lot of repeated entries. This is because Educational and Recreation sum together to be Total. If we're just trying to predict Average Screen time, we should just take the total columns.\n",
    "- Gender and Day Type are non-numeric but can easily be mapped to 0,1,2 etc. This is called One-Hot Encoding"
   ]
  },
  {
   "cell_type": "code",
   "execution_count": 57,
   "id": "eb1dce99",
   "metadata": {},
   "outputs": [
    {
     "name": "stdout",
     "output_type": "stream",
     "text": [
      "Index(['Age', 'Screen Time Type', 'Average Screen Time (hours)', 'Sample Size',\n",
      "       'Gender_Male', 'Gender_Other/Prefer not to say', 'Day Type_Weekend'],\n",
      "      dtype='object')\n"
     ]
    },
    {
     "data": {
      "text/html": [
       "<div>\n",
       "<style scoped>\n",
       "    .dataframe tbody tr th:only-of-type {\n",
       "        vertical-align: middle;\n",
       "    }\n",
       "\n",
       "    .dataframe tbody tr th {\n",
       "        vertical-align: top;\n",
       "    }\n",
       "\n",
       "    .dataframe thead th {\n",
       "        text-align: right;\n",
       "    }\n",
       "</style>\n",
       "<table border=\"1\" class=\"dataframe\">\n",
       "  <thead>\n",
       "    <tr style=\"text-align: right;\">\n",
       "      <th></th>\n",
       "      <th>Age</th>\n",
       "      <th>Screen Time Type</th>\n",
       "      <th>Average Screen Time (hours)</th>\n",
       "      <th>Sample Size</th>\n",
       "      <th>Gender_Male</th>\n",
       "      <th>Gender_Other/Prefer not to say</th>\n",
       "      <th>Day Type_Weekend</th>\n",
       "    </tr>\n",
       "  </thead>\n",
       "  <tbody>\n",
       "    <tr>\n",
       "      <th>0</th>\n",
       "      <td>5</td>\n",
       "      <td>Total</td>\n",
       "      <td>1.55</td>\n",
       "      <td>500</td>\n",
       "      <td>True</td>\n",
       "      <td>False</td>\n",
       "      <td>False</td>\n",
       "    </tr>\n",
       "    <tr>\n",
       "      <th>1</th>\n",
       "      <td>5</td>\n",
       "      <td>Total</td>\n",
       "      <td>1.93</td>\n",
       "      <td>500</td>\n",
       "      <td>True</td>\n",
       "      <td>False</td>\n",
       "      <td>True</td>\n",
       "    </tr>\n",
       "    <tr>\n",
       "      <th>2</th>\n",
       "      <td>5</td>\n",
       "      <td>Total</td>\n",
       "      <td>1.45</td>\n",
       "      <td>500</td>\n",
       "      <td>False</td>\n",
       "      <td>False</td>\n",
       "      <td>False</td>\n",
       "    </tr>\n",
       "    <tr>\n",
       "      <th>3</th>\n",
       "      <td>5</td>\n",
       "      <td>Total</td>\n",
       "      <td>1.90</td>\n",
       "      <td>500</td>\n",
       "      <td>False</td>\n",
       "      <td>False</td>\n",
       "      <td>True</td>\n",
       "    </tr>\n",
       "    <tr>\n",
       "      <th>4</th>\n",
       "      <td>5</td>\n",
       "      <td>Total</td>\n",
       "      <td>1.50</td>\n",
       "      <td>500</td>\n",
       "      <td>False</td>\n",
       "      <td>True</td>\n",
       "      <td>False</td>\n",
       "    </tr>\n",
       "  </tbody>\n",
       "</table>\n",
       "</div>"
      ],
      "text/plain": [
       "   Age Screen Time Type  Average Screen Time (hours)  Sample Size  \\\n",
       "0    5            Total                         1.55          500   \n",
       "1    5            Total                         1.93          500   \n",
       "2    5            Total                         1.45          500   \n",
       "3    5            Total                         1.90          500   \n",
       "4    5            Total                         1.50          500   \n",
       "\n",
       "   Gender_Male  Gender_Other/Prefer not to say  Day Type_Weekend  \n",
       "0         True                           False             False  \n",
       "1         True                           False              True  \n",
       "2        False                           False             False  \n",
       "3        False                           False              True  \n",
       "4        False                            True             False  "
      ]
     },
     "execution_count": 57,
     "metadata": {},
     "output_type": "execute_result"
    }
   ],
   "source": [
    "# One-hot encode the categorical columns\n",
    "data = data[data['Screen Time Type'] == 'Total']\n",
    "data.reset_index(drop=True, inplace=True)\n",
    "\n",
    "data_encoded = pd.get_dummies(data, columns=['Gender', 'Day Type'], drop_first=True)\n",
    "print(data_encoded.columns)\n",
    "\n",
    "data_encoded.head()"
   ]
  },
  {
   "cell_type": "code",
   "execution_count": 58,
   "id": "3660f6bf",
   "metadata": {},
   "outputs": [
    {
     "data": {
      "text/html": [
       "<div>\n",
       "<style scoped>\n",
       "    .dataframe tbody tr th:only-of-type {\n",
       "        vertical-align: middle;\n",
       "    }\n",
       "\n",
       "    .dataframe tbody tr th {\n",
       "        vertical-align: top;\n",
       "    }\n",
       "\n",
       "    .dataframe thead th {\n",
       "        text-align: right;\n",
       "    }\n",
       "</style>\n",
       "<table border=\"1\" class=\"dataframe\">\n",
       "  <thead>\n",
       "    <tr style=\"text-align: right;\">\n",
       "      <th></th>\n",
       "      <th>Age</th>\n",
       "      <th>Average Screen Time (hours)</th>\n",
       "      <th>Gender_Male</th>\n",
       "      <th>Gender_Other/Prefer not to say</th>\n",
       "      <th>Day Type_Weekend</th>\n",
       "    </tr>\n",
       "  </thead>\n",
       "  <tbody>\n",
       "    <tr>\n",
       "      <th>0</th>\n",
       "      <td>5</td>\n",
       "      <td>1.55</td>\n",
       "      <td>True</td>\n",
       "      <td>False</td>\n",
       "      <td>False</td>\n",
       "    </tr>\n",
       "    <tr>\n",
       "      <th>1</th>\n",
       "      <td>5</td>\n",
       "      <td>1.93</td>\n",
       "      <td>True</td>\n",
       "      <td>False</td>\n",
       "      <td>True</td>\n",
       "    </tr>\n",
       "    <tr>\n",
       "      <th>2</th>\n",
       "      <td>5</td>\n",
       "      <td>1.45</td>\n",
       "      <td>False</td>\n",
       "      <td>False</td>\n",
       "      <td>False</td>\n",
       "    </tr>\n",
       "    <tr>\n",
       "      <th>3</th>\n",
       "      <td>5</td>\n",
       "      <td>1.90</td>\n",
       "      <td>False</td>\n",
       "      <td>False</td>\n",
       "      <td>True</td>\n",
       "    </tr>\n",
       "    <tr>\n",
       "      <th>4</th>\n",
       "      <td>5</td>\n",
       "      <td>1.50</td>\n",
       "      <td>False</td>\n",
       "      <td>True</td>\n",
       "      <td>False</td>\n",
       "    </tr>\n",
       "  </tbody>\n",
       "</table>\n",
       "</div>"
      ],
      "text/plain": [
       "   Age  Average Screen Time (hours)  Gender_Male  \\\n",
       "0    5                         1.55         True   \n",
       "1    5                         1.93         True   \n",
       "2    5                         1.45        False   \n",
       "3    5                         1.90        False   \n",
       "4    5                         1.50        False   \n",
       "\n",
       "   Gender_Other/Prefer not to say  Day Type_Weekend  \n",
       "0                           False             False  \n",
       "1                           False              True  \n",
       "2                           False             False  \n",
       "3                           False              True  \n",
       "4                            True             False  "
      ]
     },
     "execution_count": 58,
     "metadata": {},
     "output_type": "execute_result"
    }
   ],
   "source": [
    "# the columns like \"Sample Size and Screen Time Type\" are no longer useful. We can just drop them\n",
    "data_encoded.drop(columns=['Sample Size', 'Screen Time Type'], inplace=True)\n",
    "data_encoded.head()"
   ]
  },
  {
   "cell_type": "code",
   "execution_count": 59,
   "id": "55bdc645",
   "metadata": {},
   "outputs": [
    {
     "name": "stdout",
     "output_type": "stream",
     "text": [
      "X:\n",
      "   Age  Gender_Male  Gender_Other/Prefer not to say  Day Type_Weekend\n",
      "0    5         True                           False             False\n",
      "1    5         True                           False              True\n",
      "2    5        False                           False             False\n",
      "3    5        False                           False              True\n",
      "4    5        False                            True             False\n",
      "\n",
      "Y:\n",
      "0    1.55\n",
      "1    1.93\n",
      "2    1.45\n",
      "3    1.90\n",
      "4    1.50\n",
      "Name: Average Screen Time (hours), dtype: float64\n"
     ]
    }
   ],
   "source": [
    "X = data_encoded.drop(columns=['Average Screen Time (hours)'])\n",
    "y = data_encoded['Average Screen Time (hours)']\n",
    "\n",
    "# train-test split\n",
    "from sklearn.model_selection import train_test_split\n",
    "X_train, X_test, y_train, y_test = train_test_split(X, y, test_size=0.2, random_state=42)\n",
    "\n",
    "print(\"X:\")\n",
    "print(X.head())\n",
    "print(\"\\nY:\")\n",
    "print(y.head())"
   ]
  },
  {
   "cell_type": "code",
   "execution_count": null,
   "id": "1bfcdea0",
   "metadata": {},
   "outputs": [
    {
     "name": "stdout",
     "output_type": "stream",
     "text": [
      "Mean Squared Error: 0.053428322988865296\n",
      "R^2 Score: 0.9883074754058151\n"
     ]
    }
   ],
   "source": [
    "from sklearn.linear_model import LinearRegression\n",
    "\n",
    "model = LinearRegression()\n",
    "model.fit(X_train, y_train)\n",
    "y_pred = model.predict(X_test)\n",
    "\n",
    "# performance\n",
    "from sklearn.metrics import mean_squared_error, r2_score\n",
    "\n",
    "mse = mean_squared_error(y_test, y_pred)\n",
    "r2 = r2_score(y_test, y_pred)\n",
    "print(f\"Mean Squared Error: {mse}\")\n",
    "print(f\"R^2 Score: {r2}\")"
   ]
  },
  {
   "cell_type": "code",
   "execution_count": 61,
   "id": "dda1f818",
   "metadata": {},
   "outputs": [],
   "source": [
    "# I just learned about feature scaling, lets give it a try and see if MSE improves for the LR model.\n",
    "# it seems to be a preprocessing technique\n",
    "from sklearn.preprocessing import StandardScaler\n",
    "\n",
    "scaler = StandardScaler()\n",
    "X_train_scaled = scaler.fit_transform(X_train)\n",
    "X_test_scaled = scaler.transform(X_test)"
   ]
  },
  {
   "cell_type": "code",
   "execution_count": null,
   "id": "cd162da3",
   "metadata": {},
   "outputs": [
    {
     "name": "stdout",
     "output_type": "stream",
     "text": [
      "Mean Squared Error: 0.05342832298886539\n",
      "R^2 Score: 0.9883074754058151\n"
     ]
    }
   ],
   "source": [
    "model = LinearRegression()\n",
    "model.fit(X_train_scaled, y_train)\n",
    "y_pred = model.predict(X_test_scaled)\n",
    "\n",
    "# performance\n",
    "mse = mean_squared_error(y_test, y_pred)\n",
    "r2 = r2_score(y_test, y_pred)\n",
    "print(f\"Mean Squared Error: {mse}\")\n",
    "print(f\"R^2 Score: {r2}\")"
   ]
  },
  {
   "cell_type": "markdown",
   "id": "b44fef3d",
   "metadata": {},
   "source": [
    "This is a pretty good result. Having R^2 over 0.8 and such a low MSE is a good sign of our model's validity. It seems that the feature scaling didn't really have a noticable effect. I'll be sure to give it a try in my future project. We can try a few different models just for the sake of experiment."
   ]
  },
  {
   "cell_type": "code",
   "execution_count": 66,
   "id": "687e5c3e",
   "metadata": {},
   "outputs": [
    {
     "name": "stdout",
     "output_type": "stream",
     "text": [
      "Mean Squared Error (Random Forest): 0.06746006571428617\n",
      "R^2 Score (Random Forest): 0.9852366978156135\n"
     ]
    }
   ],
   "source": [
    "# another model I heard of is the random forest.\n",
    "# It likely will preform worse since the problem itself is regression, not classification\n",
    "\n",
    "from sklearn.ensemble import RandomForestRegressor\n",
    "rf_model = RandomForestRegressor(n_estimators=100, random_state=42)\n",
    "rf_model.fit(X_train, y_train)\n",
    "y_pred_rf = rf_model.predict(X_test)\n",
    "\n",
    "# performance\n",
    "mse_rf = mean_squared_error(y_test, y_pred_rf)\n",
    "r2_rf = r2_score(y_test, y_pred_rf)\n",
    "print(f\"Mean Squared Error (Random Forest): {mse_rf}\")\n",
    "print(f\"R^2 Score (Random Forest): {r2_rf}\")"
   ]
  },
  {
   "cell_type": "markdown",
   "id": "4ab8e3be",
   "metadata": {},
   "source": [
    "Seems like it performs slightly worse, especially when comparing MAE with the Linear Regression model. Its standalone performance is pretty good though."
   ]
  },
  {
   "cell_type": "markdown",
   "id": "65577bbc",
   "metadata": {},
   "source": [
    "I wanted to try the Linear Regression because of the strong linear correlation between age and total screen time. I'm curious to see if the age parameter is significantly more important than the others."
   ]
  },
  {
   "cell_type": "code",
   "execution_count": null,
   "id": "32096a3f",
   "metadata": {},
   "outputs": [
    {
     "name": "stdout",
     "output_type": "stream",
     "text": [
      "                          Feature  Coefficient\n",
      "0                             Age     1.668452\n",
      "3                Day Type_Weekend     0.501358\n",
      "1                     Gender_Male     0.104132\n",
      "2  Gender_Other/Prefer not to say     0.044301\n"
     ]
    }
   ],
   "source": [
    "# feature importance\n",
    "coefficients = model.coef_\n",
    "feature_importance = pd.DataFrame({'Feature': X.columns, 'Coefficient': coefficients})\n",
    "feature_importance = feature_importance.sort_values(by='Coefficient', ascending=False)\n",
    "\n",
    "print(feature_importance)"
   ]
  },
  {
   "cell_type": "markdown",
   "id": "8f0caba2",
   "metadata": {},
   "source": [
    "As suspected, age is by far the most significant parameter, its coefficient is over triple of the next most relevant paramter, Day Type. Day Type being the second most important is pretty plausible too, since we saw in the EDA that weekends have very noticably increased screen time."
   ]
  },
  {
   "cell_type": "code",
   "execution_count": null,
   "id": "ee2f22a1",
   "metadata": {},
   "outputs": [
    {
     "name": "stdout",
     "output_type": "stream",
     "text": [
      "Mean Squared Error (XGBoost): 0.03371242713484535\n",
      "R^2 Score (XGBoost): 0.9926222018331738\n"
     ]
    }
   ],
   "source": [
    "# just for fun we can try XGBoost\n",
    "# %pip install xgboost <- I didn't have it installed lol\n",
    "from xgboost import XGBRegressor\n",
    "\n",
    "xgb = XGBRegressor(n_estimators=100, random_state=42)\n",
    "xgb.fit(X_train_scaled, y_train)\n",
    "\n",
    "y_pred_xgb = xgb.predict(X_test_scaled)\n",
    "mse_xgb = mean_squared_error(y_test, y_pred_xgb)\n",
    "r2_xgb = r2_score(y_test, y_pred_xgb)\n",
    "\n",
    "print(f\"Mean Squared Error (XGBoost): {mse_xgb}\")\n",
    "print(f\"R^2 Score (XGBoost): {r2_xgb}\")"
   ]
  },
  {
   "cell_type": "markdown",
   "id": "2f149649",
   "metadata": {},
   "source": [
    "This result is pretty insane. After some research it seems that XGBoost is pretty solid for both Regression and Classification tasks, and this one is regression. That being said, it's definitely more computationally intensive than linear regression."
   ]
  },
  {
   "cell_type": "code",
   "execution_count": null,
   "id": "f9bf3838",
   "metadata": {},
   "outputs": [
    {
     "name": "stdout",
     "output_type": "stream",
     "text": [
      "                          Feature  Importance\n",
      "0                             Age    0.841653\n",
      "3                Day Type_Weekend    0.145493\n",
      "1                     Gender_Male    0.010319\n",
      "2  Gender_Other/Prefer not to say    0.002535\n"
     ]
    }
   ],
   "source": [
    "# feature importance for XGBoost\n",
    "xgb_feature_importance = pd.DataFrame({\n",
    "    'Feature': X.columns,\n",
    "    'Importance': xgb.feature_importances_\n",
    "}).sort_values(by='Importance', ascending=False)\n",
    "\n",
    "print(xgb_feature_importance)"
   ]
  },
  {
   "cell_type": "markdown",
   "id": "d31c2444",
   "metadata": {},
   "source": [
    "Pretty much the same result as we gathered from the EDA and the LR model; Age is the defining characteristic, follow by if the datapoint was recorded on a weekend or weekday."
   ]
  }
 ],
 "metadata": {
  "kernelspec": {
   "display_name": "Python 3",
   "language": "python",
   "name": "python3"
  },
  "language_info": {
   "codemirror_mode": {
    "name": "ipython",
    "version": 3
   },
   "file_extension": ".py",
   "mimetype": "text/x-python",
   "name": "python",
   "nbconvert_exporter": "python",
   "pygments_lexer": "ipython3",
   "version": "3.11.0"
  }
 },
 "nbformat": 4,
 "nbformat_minor": 5
}
